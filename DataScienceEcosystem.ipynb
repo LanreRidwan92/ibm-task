{
 "cells": [
  {
   "cell_type": "markdown",
   "id": "fc52d3a7-6c06-4ba6-b5d4-d386f0ce0ded",
   "metadata": {},
   "source": [
    "                                               Data Science Tools and Ecosystem"
   ]
  },
  {
   "cell_type": "code",
   "execution_count": null,
   "id": "281189f7-db5d-448c-a98a-8340920c4211",
   "metadata": {},
   "outputs": [],
   "source": []
  },
  {
   "cell_type": "markdown",
   "id": "a67eef25-e808-465b-adb4-be1a52dc540d",
   "metadata": {},
   "source": [
    "                              In this notebook, Data Science Tools and Ecosystem are summarized"
   ]
  },
  {
   "cell_type": "code",
   "execution_count": null,
   "id": "bd13e917-6cd7-4470-8298-b2018d91eb29",
   "metadata": {},
   "outputs": [],
   "source": []
  },
  {
   "attachments": {},
   "cell_type": "markdown",
   "id": "b2021403-ef34-41dc-8615-a55351039e79",
   "metadata": {},
   "source": [
    "                                  Some of the popular languages that Data Scientists use are:"
   ]
  },
  {
   "cell_type": "code",
   "execution_count": 3,
   "id": "aee0ac1a-8f7d-4fff-b928-0f9145b1d18f",
   "metadata": {},
   "outputs": [],
   "source": [
    "DataScientistLanguages = ['Python', 'MATLAB', 'SQL', 'Scala', 'Julia', 'R'] "
   ]
  },
  {
   "cell_type": "code",
   "execution_count": 5,
   "id": "dcc7e79d-1be5-48d2-88fd-74b431398360",
   "metadata": {},
   "outputs": [
    {
     "data": {
      "text/plain": [
       "['Python', 'MATLAB', 'SQL', 'Scala', 'Julia', 'R']"
      ]
     },
     "execution_count": 5,
     "metadata": {},
     "output_type": "execute_result"
    }
   ],
   "source": [
    "DataScientistLanguages"
   ]
  },
  {
   "cell_type": "code",
   "execution_count": null,
   "id": "1e020300-0f56-4024-bf87-56e317d79b81",
   "metadata": {},
   "outputs": [],
   "source": []
  },
  {
   "cell_type": "markdown",
   "id": "6eb250ee-f931-4056-af5d-0ad92ed76130",
   "metadata": {},
   "source": [
    "                              Some of the commonly used libraries used by Data Scientists include"
   ]
  },
  {
   "cell_type": "code",
   "execution_count": 7,
   "id": "5fab116e-0179-436e-a63d-e9f845a6eaf4",
   "metadata": {},
   "outputs": [],
   "source": [
    "ds_lib = ['Numpy', 'Pandas', 'Matplotlib', 'Scikit-learn', 'Seaborn', 'Beatiful Soup', 'Scrapy']"
   ]
  },
  {
   "cell_type": "code",
   "execution_count": 9,
   "id": "ae5f8661-55fa-423c-88f9-d275a21d2277",
   "metadata": {},
   "outputs": [
    {
     "data": {
      "text/plain": [
       "['Numpy',\n",
       " 'Pandas',\n",
       " 'Matplotlib',\n",
       " 'Scikit-learn',\n",
       " 'Seaborn',\n",
       " 'Beatiful Soup',\n",
       " 'Scrapy']"
      ]
     },
     "execution_count": 9,
     "metadata": {},
     "output_type": "execute_result"
    }
   ],
   "source": [
    "ds_lib"
   ]
  },
  {
   "cell_type": "code",
   "execution_count": null,
   "id": "1cb67a4e-397a-4bcd-b341-d885f53cb334",
   "metadata": {},
   "outputs": [],
   "source": []
  },
  {
   "cell_type": "markdown",
   "id": "c2ee80a9-9a7c-4418-8ea0-76ea8631cf3c",
   "metadata": {},
   "source": [
    "                                                          Data Science Table Tools"
   ]
  },
  {
   "cell_type": "code",
   "execution_count": 27,
   "id": "24c1c51a-3512-4694-aa4a-cc5ec52237b6",
   "metadata": {},
   "outputs": [],
   "source": [
    "import pandas as pd"
   ]
  },
  {
   "cell_type": "code",
   "execution_count": 47,
   "id": "7a230ad6-6a42-43ec-866e-42445276a331",
   "metadata": {},
   "outputs": [],
   "source": [
    "DataScience_Tools = ['TensorFlow', 'Scikit-learn', 'KNIME']"
   ]
  },
  {
   "cell_type": "code",
   "execution_count": 49,
   "id": "f2d5d690-f10f-47a6-9f93-23778aca10c8",
   "metadata": {},
   "outputs": [
    {
     "data": {
      "text/plain": [
       "list"
      ]
     },
     "execution_count": 49,
     "metadata": {},
     "output_type": "execute_result"
    }
   ],
   "source": [
    "type(DataScience_Tools)"
   ]
  },
  {
   "cell_type": "code",
   "execution_count": 51,
   "id": "7d9e3415-ae69-4638-a90e-e16179631d40",
   "metadata": {},
   "outputs": [
    {
     "data": {
      "text/html": [
       "<div>\n",
       "<style scoped>\n",
       "    .dataframe tbody tr th:only-of-type {\n",
       "        vertical-align: middle;\n",
       "    }\n",
       "\n",
       "    .dataframe tbody tr th {\n",
       "        vertical-align: top;\n",
       "    }\n",
       "\n",
       "    .dataframe thead th {\n",
       "        text-align: right;\n",
       "    }\n",
       "</style>\n",
       "<table border=\"1\" class=\"dataframe\">\n",
       "  <thead>\n",
       "    <tr style=\"text-align: right;\">\n",
       "      <th></th>\n",
       "      <th>DataScience_Tools</th>\n",
       "    </tr>\n",
       "  </thead>\n",
       "  <tbody>\n",
       "    <tr>\n",
       "      <th>0</th>\n",
       "      <td>TensorFlow</td>\n",
       "    </tr>\n",
       "    <tr>\n",
       "      <th>1</th>\n",
       "      <td>Scikit-learn</td>\n",
       "    </tr>\n",
       "    <tr>\n",
       "      <th>2</th>\n",
       "      <td>KNIME</td>\n",
       "    </tr>\n",
       "  </tbody>\n",
       "</table>\n",
       "</div>"
      ],
      "text/plain": [
       "  DataScience_Tools\n",
       "0        TensorFlow\n",
       "1      Scikit-learn\n",
       "2             KNIME"
      ]
     },
     "execution_count": 51,
     "metadata": {},
     "output_type": "execute_result"
    }
   ],
   "source": [
    "pd.DataFrame(DataScience_Tools, columns = ['DataScience_Tools'])"
   ]
  },
  {
   "cell_type": "code",
   "execution_count": null,
   "id": "996c95ac-4247-46ca-9bbd-b8993c2bb9fb",
   "metadata": {},
   "outputs": [],
   "source": []
  },
  {
   "cell_type": "markdown",
   "id": "c95bc6e1-f5dd-48d8-9bba-ed2b12ea923f",
   "metadata": {},
   "source": [
    "                              Below are a few examples of evaluating arithmetic expressions in Python"
   ]
  },
  {
   "cell_type": "code",
   "execution_count": 53,
   "id": "95166740-5032-43ab-971c-a636f1646cec",
   "metadata": {},
   "outputs": [
    {
     "data": {
      "text/plain": [
       "80"
      ]
     },
     "execution_count": 53,
     "metadata": {},
     "output_type": "execute_result"
    }
   ],
   "source": [
    "40 + 40"
   ]
  },
  {
   "cell_type": "code",
   "execution_count": 55,
   "id": "fcd66328-e722-4c03-b92e-0723be22e589",
   "metadata": {},
   "outputs": [
    {
     "data": {
      "text/plain": [
       "170"
      ]
     },
     "execution_count": 55,
     "metadata": {},
     "output_type": "execute_result"
    }
   ],
   "source": [
    "200 - 30"
   ]
  },
  {
   "cell_type": "code",
   "execution_count": 57,
   "id": "81b18a86-2ef0-47d0-baaf-da799d6551e0",
   "metadata": {},
   "outputs": [
    {
     "data": {
      "text/plain": [
       "200.0"
      ]
     },
     "execution_count": 57,
     "metadata": {},
     "output_type": "execute_result"
    }
   ],
   "source": [
    "1000 / 5"
   ]
  },
  {
   "cell_type": "code",
   "execution_count": 59,
   "id": "f5ce04e4-5f8a-4a0a-86c6-24c044c09027",
   "metadata": {},
   "outputs": [
    {
     "data": {
      "text/plain": [
       "200"
      ]
     },
     "execution_count": 59,
     "metadata": {},
     "output_type": "execute_result"
    }
   ],
   "source": [
    "1000 // 5"
   ]
  },
  {
   "cell_type": "code",
   "execution_count": null,
   "id": "01affcf0-3b82-4724-a266-1bff5dc084c8",
   "metadata": {},
   "outputs": [],
   "source": []
  },
  {
   "cell_type": "markdown",
   "id": "3ea5150a-2c5e-4ad2-9bc3-3203b4b5af11",
   "metadata": {},
   "source": [
    "                            This is a simple arithmetic expression to multiply then and integers"
   ]
  },
  {
   "cell_type": "code",
   "execution_count": 61,
   "id": "03ec8b35-5912-4596-abe7-26235b72c119",
   "metadata": {},
   "outputs": [
    {
     "data": {
      "text/plain": [
       "18"
      ]
     },
     "execution_count": 61,
     "metadata": {},
     "output_type": "execute_result"
    }
   ],
   "source": [
    "(3*4)+6"
   ]
  },
  {
   "cell_type": "code",
   "execution_count": 63,
   "id": "f978ca0a-30a0-4e41-9c92-d7ef90436042",
   "metadata": {},
   "outputs": [
    {
     "data": {
      "text/plain": [
       "24"
      ]
     },
     "execution_count": 63,
     "metadata": {},
     "output_type": "execute_result"
    }
   ],
   "source": [
    "19+1*5"
   ]
  },
  {
   "cell_type": "code",
   "execution_count": 67,
   "id": "eac23bee-a97a-4ab5-987d-a5854a3ce74b",
   "metadata": {},
   "outputs": [
    {
     "data": {
      "text/plain": [
       "100"
      ]
     },
     "execution_count": 67,
     "metadata": {},
     "output_type": "execute_result"
    }
   ],
   "source": [
    "(19+1)*5"
   ]
  },
  {
   "cell_type": "code",
   "execution_count": 69,
   "id": "92d0c633-b3a2-4c21-9d8d-864ffc69ecda",
   "metadata": {},
   "outputs": [
    {
     "data": {
      "text/plain": [
       "25"
      ]
     },
     "execution_count": 69,
     "metadata": {},
     "output_type": "execute_result"
    }
   ],
   "source": [
    "(10-5)*5"
   ]
  },
  {
   "cell_type": "code",
   "execution_count": null,
   "id": "000b4c7c-b881-4aa6-b4db-56e9a62ecc30",
   "metadata": {},
   "outputs": [],
   "source": []
  },
  {
   "cell_type": "markdown",
   "id": "0f85abf6-b122-4f7b-aafd-6bf8842399ee",
   "metadata": {},
   "source": [
    "                                      This will convert 200 minutes to hours by dividing by 60"
   ]
  },
  {
   "cell_type": "code",
   "execution_count": 71,
   "id": "c0fb0a5e-135b-4a1e-b7ef-057e278ac31e",
   "metadata": {},
   "outputs": [],
   "source": [
    "minutes = 200\n",
    "hours = minutes / 60"
   ]
  },
  {
   "cell_type": "code",
   "execution_count": 75,
   "id": "922bb544-a0d8-41ad-8942-140753e3f8fa",
   "metadata": {},
   "outputs": [
    {
     "name": "stdout",
     "output_type": "stream",
     "text": [
      "200minutes is equal to 3.333333hours\n"
     ]
    }
   ],
   "source": [
    "print(F\"{minutes}minutes is equal to {hours:2f}hours\")"
   ]
  },
  {
   "cell_type": "code",
   "execution_count": null,
   "id": "0e6db98b-9fba-4124-bc9f-1fc765197738",
   "metadata": {},
   "outputs": [],
   "source": []
  },
  {
   "cell_type": "markdown",
   "id": "a3cb5947-2a12-472e-9af3-daf37047264e",
   "metadata": {},
   "source": [
    "                                     List popular languages for Data Science"
   ]
  },
  {
   "cell_type": "code",
   "execution_count": null,
   "id": "1269d390-81f3-4631-a0f6-9237a099757a",
   "metadata": {},
   "outputs": [],
   "source": [
    "Python\n",
    "SQL\n",
    "R\n",
    "Julia\n",
    "Java\n",
    "Scala\n",
    "SAS\n",
    "MATLAB\n",
    "    "
   ]
  },
  {
   "cell_type": "code",
   "execution_count": null,
   "id": "209bd32d-67aa-43f6-871c-530f3f2f761e",
   "metadata": {},
   "outputs": [],
   "source": []
  },
  {
   "cell_type": "markdown",
   "id": "956922a7-4859-4173-b89d-f4cabffaeaa6",
   "metadata": {},
   "source": [
    "                                                     Author Name"
   ]
  },
  {
   "cell_type": "code",
   "execution_count": 83,
   "id": "de2deee1-78e3-421b-ae73-e69e7f280450",
   "metadata": {},
   "outputs": [],
   "source": [
    "Author_Name = 'Ridwan Olatunji'"
   ]
  },
  {
   "cell_type": "code",
   "execution_count": 85,
   "id": "3f64f24c-41c3-4ade-9879-262f65c73640",
   "metadata": {},
   "outputs": [
    {
     "data": {
      "text/plain": [
       "'Ridwan Olatunji'"
      ]
     },
     "execution_count": 85,
     "metadata": {},
     "output_type": "execute_result"
    }
   ],
   "source": [
    "Author_Name"
   ]
  },
  {
   "cell_type": "code",
   "execution_count": null,
   "id": "4627a33f-67d3-486f-839d-6ae1f05cd042",
   "metadata": {},
   "outputs": [],
   "source": []
  },
  {
   "cell_type": "code",
   "execution_count": null,
   "id": "bac8c9e0-578f-4254-b06c-0541cca0c6d1",
   "metadata": {},
   "outputs": [],
   "source": []
  },
  {
   "cell_type": "code",
   "execution_count": null,
   "id": "2088fd7a-7945-450a-9200-e1516cf68581",
   "metadata": {},
   "outputs": [],
   "source": []
  },
  {
   "cell_type": "code",
   "execution_count": null,
   "id": "9f202c21-b68a-4c4f-92f2-853f361feee0",
   "metadata": {},
   "outputs": [],
   "source": []
  },
  {
   "cell_type": "code",
   "execution_count": null,
   "id": "4403cd8e-c47e-46f7-b9e3-bfd821ce6399",
   "metadata": {},
   "outputs": [],
   "source": []
  },
  {
   "cell_type": "code",
   "execution_count": null,
   "id": "b2e70c1b-9825-4d03-b69c-7b08b2a3656f",
   "metadata": {},
   "outputs": [],
   "source": []
  },
  {
   "cell_type": "code",
   "execution_count": null,
   "id": "d18f1a65-623c-4108-b464-ef55f6f99a47",
   "metadata": {},
   "outputs": [],
   "source": []
  },
  {
   "cell_type": "code",
   "execution_count": null,
   "id": "d8874c01-f09f-434e-9212-ee7df924e2f3",
   "metadata": {},
   "outputs": [],
   "source": []
  },
  {
   "cell_type": "code",
   "execution_count": null,
   "id": "c0f4130d-fafe-4405-8d36-986199306260",
   "metadata": {},
   "outputs": [],
   "source": []
  }
 ],
 "metadata": {
  "kernelspec": {
   "display_name": "Python 3 (ipykernel)",
   "language": "python",
   "name": "python3"
  },
  "language_info": {
   "codemirror_mode": {
    "name": "ipython",
    "version": 3
   },
   "file_extension": ".py",
   "mimetype": "text/x-python",
   "name": "python",
   "nbconvert_exporter": "python",
   "pygments_lexer": "ipython3",
   "version": "3.12.4"
  }
 },
 "nbformat": 4,
 "nbformat_minor": 5
}
